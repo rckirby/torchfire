{
 "cells": [
  {
   "cell_type": "code",
   "execution_count": null,
   "outputs": [],
   "source": [
    "import torch\n",
    "import torch.nn as nn\n",
    "import firedrake as fd\n",
    "import firedrake_adjoint  # noqa\n",
    "import numpy as np\n",
    "import ufl\n",
    "from torchfire import fd_to_torch\n",
    "import fdm\n",
    "from fecr import evaluate_primal, evaluate_pullback\n",
    "from torch.autograd import Variable\n",
    "import torchviz\n",
    "import matplotlib.pyplot as plt\n",
    "\n",
    "#def neural_net(n_input, n_hidden, n_output):\n",
    "#    model = nn.Sequential(nn.Flatten(),\n",
    "#                          nn.Linear(n_input, n_hidden),\n",
    "#                          nn.LeakyReLU(),\n",
    "#                          nn.Linear(n_hidden, n_output),\n",
    "#                          nn.ReLU())\n",
    "#    return model\n",
    "\n",
    "class neural_net(torch.nn.Module):\n",
    "\n",
    "    def __init__(self):\n",
    "        super(neural_net, self).__init__()\n",
    "        self.linear1 = nn.Linear(27, 32)\n",
    "        self.activation1 = nn.ReLU()\n",
    "        self.linear2 = torch.nn.Linear(32, 32)\n",
    "        self.activation2 = nn.ReLU()\n",
    "        self.linear3 = torch.nn.Linear(32, 32)\n",
    "        self.activation3 = nn.ReLU()\n",
    "        self.linear4 = torch.nn.Linear(32, 27)\n",
    "        self.activation4 = nn.Tanh()\n",
    "\n",
    "    def forward(self, x):\n",
    "        x = torch.flatten(x)\n",
    "        x = self.linear1(x)\n",
    "        x = self.activation1(x)\n",
    "        x = self.linear2(x)\n",
    "        x = self.activation2(x)\n",
    "        x = self.linear3(x)\n",
    "        x = self.activation3(x)\n",
    "        x = self.linear4(x)\n",
    "        x = self.activation4(x)\n",
    "        return x\n",
    "\n",
    "def a_function(f):\n",
    "    V = fd.FunctionSpace(mesh, \"P\", 1)\n",
    "    x = fd.SpatialCoordinate(mesh)\n",
    "\n",
    "    u = fd.Function(V)\n",
    "    v = fd.TestFunction(V)\n",
    "    bcs = [fd.DirichletBC(V, fd.Constant(2.0), (1,))]\n",
    "\n",
    "    a = (fd.inner(fd.grad(u), fd.grad(v))  - f * v  )* fd.dx\n",
    "\n",
    "    fd.solve( a  == 0, u, bcs=bcs)\n",
    "    return u\n",
    "\n",
    "def F_function(f):\n",
    "    x = fd.SpatialCoordinate(mesh)\n",
    "    F = fd.Function(V)\n",
    "    F.interpolate(fd.sin(x[0] * fd.pi) * fd.sin(2 * x[1] * fd.pi))\n",
    "    return F\n",
    "\n",
    "\n",
    "\n"
   ],
   "metadata": {
    "collapsed": false,
    "pycharm": {
     "name": "#%%\n"
    }
   }
  },
  {
   "cell_type": "code",
   "execution_count": null,
   "outputs": [],
   "source": [
    "N = 8\n",
    "mesh = fd.UnitSquareMesh(N, 2)\n",
    "V = fd.FunctionSpace(mesh, \"P\", 1)\n",
    "V_f = fd.FunctionSpace(mesh, \"P\", 1)\n",
    "x = fd.SpatialCoordinate(mesh)\n",
    "print(V.dim())\n",
    "print(V_f.dim())"
   ],
   "metadata": {
    "collapsed": false,
    "pycharm": {
     "name": "#%%\n"
    }
   }
  },
  {
   "cell_type": "code",
   "execution_count": null,
   "outputs": [],
   "source": [
    "fd.Function(V)"
   ],
   "metadata": {
    "collapsed": false,
    "pycharm": {
     "name": "#%%\n"
    }
   }
  },
  {
   "cell_type": "code",
   "execution_count": null,
   "outputs": [],
   "source": [
    "F_templates = (fd.Function(V), )\n",
    "F_input = (torch.ones(V.dim(), requires_grad=False),)\n",
    "F = fd_to_torch(F_function, F_templates, \"bob_F\")\n",
    "F_ = F.apply(*F_input)\n",
    "F_"
   ],
   "metadata": {
    "collapsed": false,
    "pycharm": {
     "name": "#%%\n"
    }
   }
  },
  {
   "cell_type": "code",
   "execution_count": null,
   "outputs": [],
   "source": [
    "templates = (fd.Function(V_f),)\n",
    "inputs = (torch.ones(V_f.dim(), requires_grad=True),)\n",
    "a = fd_to_torch(a_function, templates, \"bob_a\")\n",
    "a_ = a.apply"
   ],
   "metadata": {
    "collapsed": false,
    "pycharm": {
     "name": "#%%\n"
    }
   }
  },
  {
   "cell_type": "code",
   "execution_count": null,
   "outputs": [],
   "source": [
    "error_L2 = nn.MSELoss()\n",
    "learning_rate = 0.0001\n",
    "f_nn = neural_net() #neural_net(N, 68, N)\n",
    "optimizer = torch.optim.Adam(f_nn.parameters(), lr=learning_rate)\n",
    "losses = []\n",
    "\n",
    "for epoch in range(100):\n",
    "    print(f\"Epoch:{epoch}\")\n",
    "    f = f_nn(*inputs)\n",
    "    y = a_(f)\n",
    "\n",
    "    loss = error_L2(y, F_)\n",
    "    grad_x, = torch.autograd.grad(loss, inputs, create_graph=True)\n",
    "    torchviz.make_dot((grad_x, inputs[0] , loss), params={\"grad_x\": grad_x, \"x\": inputs[0], \"out\": loss}).render(\"attached\",format=\"png\")\n",
    "    losses.append(loss)\n",
    "    print(f\"Loss:{loss}\")\n",
    "\n",
    "    # Backpropagation\n",
    "    optimizer.zero_grad()\n",
    "    loss.backward()\n",
    "    optimizer.step()\n",
    "\n",
    "plt.plot([loss.detach() for loss in losses][1:])\n",
    "#plt.savefig('losses.png')\n",
    "plt.show()\n",
    "plt.close()\n",
    "print(\"Predicted f:\", f.detach().numpy())\n",
    "print(\"True f:\", F_)\n",
    "plt.plot(f.detach().numpy())\n",
    "plt.show()\n",
    "#plt.savefig('f.png')"
   ],
   "metadata": {
    "collapsed": false,
    "pycharm": {
     "name": "#%%\n"
    }
   }
  },
  {
   "cell_type": "code",
   "execution_count": null,
   "outputs": [],
   "source": [],
   "metadata": {
    "collapsed": false,
    "pycharm": {
     "name": "#%%\n"
    }
   }
  },
  {
   "cell_type": "code",
   "execution_count": 10,
   "metadata": {
    "pycharm": {
     "name": "#%%\n"
    }
   },
   "outputs": [
    {
     "name": "stdout",
     "output_type": "stream",
     "text": [
      "Epoch:0\n",
      "Loss:4.0219575610035445\n",
      "Epoch:1\n",
      "Loss:4.021032442841373\n",
      "Epoch:2\n",
      "Loss:4.020111505550467\n",
      "Epoch:3\n",
      "Loss:4.019187613755018\n",
      "Epoch:4\n",
      "Loss:4.018260719156394\n",
      "Epoch:5\n",
      "Loss:4.017229860615812\n",
      "Epoch:6\n",
      "Loss:4.016147963129546\n",
      "Epoch:7\n",
      "Loss:4.015051739390418\n",
      "Epoch:8\n",
      "Loss:4.013944274271538\n",
      "Epoch:9\n",
      "Loss:4.012870474827048\n",
      "Epoch:10\n",
      "Loss:4.011812987508217\n",
      "Epoch:11\n",
      "Loss:4.010749578666955\n",
      "Epoch:12\n",
      "Loss:4.009680586474194\n",
      "Epoch:13\n",
      "Loss:4.008606227472103\n",
      "Epoch:14\n",
      "Loss:4.007526622423931\n",
      "Epoch:15\n",
      "Loss:4.006441823878701\n",
      "Epoch:16\n",
      "Loss:4.0053518068539065\n",
      "Epoch:17\n",
      "Loss:4.004248292339359\n",
      "Epoch:18\n",
      "Loss:4.003124272463939\n",
      "Epoch:19\n",
      "Loss:4.001990923527889\n",
      "Epoch:20\n",
      "Loss:4.000901499211526\n",
      "Epoch:21\n",
      "Loss:3.999817899218673\n",
      "Epoch:22\n",
      "Loss:3.9987232688575265\n",
      "Epoch:23\n",
      "Loss:3.997618042022069\n",
      "Epoch:24\n",
      "Loss:3.99650243930246\n",
      "Epoch:25\n",
      "Loss:3.995376528289619\n",
      "Epoch:26\n",
      "Loss:3.994240124940893\n",
      "Epoch:27\n",
      "Loss:3.9930922682589367\n",
      "Epoch:28\n",
      "Loss:3.991933433683514\n",
      "Epoch:29\n",
      "Loss:3.990762968231732\n",
      "Epoch:30\n",
      "Loss:3.989580257320662\n",
      "Epoch:31\n",
      "Loss:3.9883855353365942\n",
      "Epoch:32\n",
      "Loss:3.987178501805315\n",
      "Epoch:33\n",
      "Loss:3.985958834249604\n",
      "Epoch:34\n",
      "Loss:3.9847261918404024\n",
      "Epoch:35\n",
      "Loss:3.9834802270675502\n",
      "Epoch:36\n",
      "Loss:3.9822205712125944\n",
      "Epoch:37\n",
      "Loss:3.9809468753325694\n",
      "Epoch:38\n",
      "Loss:3.9796587891155104\n",
      "Epoch:39\n",
      "Loss:3.9783559270947677\n",
      "Epoch:40\n",
      "Loss:3.977037933711784\n",
      "Epoch:41\n",
      "Loss:3.9757044444268548\n",
      "Epoch:42\n",
      "Loss:3.974355079997375\n",
      "Epoch:43\n",
      "Loss:3.9729894801985304\n",
      "Epoch:44\n",
      "Loss:3.971629209027572\n",
      "Epoch:45\n",
      "Loss:3.970287761826336\n",
      "Epoch:46\n",
      "Loss:3.9689312713340468\n",
      "Epoch:47\n",
      "Loss:3.9676280283472534\n",
      "Epoch:48\n",
      "Loss:3.9663137108544437\n",
      "Epoch:49\n",
      "Loss:3.964981989093749\n",
      "Epoch:50\n",
      "Loss:3.9636329626263254\n",
      "Epoch:51\n",
      "Loss:3.962266579543307\n",
      "Epoch:52\n",
      "Loss:3.9608827614280124\n",
      "Epoch:53\n",
      "Loss:3.9594813584274884\n",
      "Epoch:54\n",
      "Loss:3.9580621645709524\n",
      "Epoch:55\n",
      "Loss:3.95662496659374\n",
      "Epoch:56\n",
      "Loss:3.955169523255275\n",
      "Epoch:57\n",
      "Loss:3.95369555955654\n",
      "Epoch:58\n",
      "Loss:3.95220281369016\n",
      "Epoch:59\n",
      "Loss:3.9506909925384726\n",
      "Epoch:60\n",
      "Loss:3.9491598065285776\n",
      "Epoch:61\n",
      "Loss:3.9476089445129694\n",
      "Epoch:62\n",
      "Loss:3.946038113512061\n",
      "Epoch:63\n",
      "Loss:3.94444698932556\n",
      "Epoch:64\n",
      "Loss:3.9428352580808856\n",
      "Epoch:65\n",
      "Loss:3.9412026135251215\n",
      "Epoch:66\n",
      "Loss:3.9395706664770227\n",
      "Epoch:67\n",
      "Loss:3.937933536670315\n",
      "Epoch:68\n",
      "Loss:3.936276249411899\n",
      "Epoch:69\n",
      "Loss:3.9345985208059893\n",
      "Epoch:70\n",
      "Loss:3.9329000336303266\n",
      "Epoch:71\n",
      "Loss:3.931180496913744\n",
      "Epoch:72\n",
      "Loss:3.9294396033727024\n",
      "Epoch:73\n",
      "Loss:3.9276770347533994\n",
      "Epoch:74\n",
      "Loss:3.9258924747905986\n",
      "Epoch:75\n",
      "Loss:3.924085617184849\n",
      "Epoch:76\n",
      "Loss:3.922256115231158\n",
      "Epoch:77\n",
      "Loss:3.9204036792557355\n",
      "Epoch:78\n",
      "Loss:3.918527965731012\n",
      "Epoch:79\n",
      "Loss:3.916628668973274\n",
      "Epoch:80\n",
      "Loss:3.914705465967834\n",
      "Epoch:81\n",
      "Loss:3.9127580549506624\n",
      "Epoch:82\n",
      "Loss:3.9107860822485794\n",
      "Epoch:83\n",
      "Loss:3.9087892934450896\n",
      "Epoch:84\n",
      "Loss:3.9067673181811577\n",
      "Epoch:85\n",
      "Loss:3.904719902042021\n",
      "Epoch:86\n",
      "Loss:3.902646703432651\n",
      "Epoch:87\n",
      "Loss:3.900548749364666\n",
      "Epoch:88\n",
      "Loss:3.8984316057426525\n",
      "Epoch:89\n",
      "Loss:3.8962845193338986\n",
      "Epoch:90\n",
      "Loss:3.8941085698660705\n",
      "Epoch:91\n",
      "Loss:3.8919041997280157\n",
      "Epoch:92\n",
      "Loss:3.8896719984396837\n",
      "Epoch:93\n",
      "Loss:3.8874163649589626\n",
      "Epoch:94\n",
      "Loss:3.8851319465478604\n",
      "Epoch:95\n",
      "Loss:3.8828185585308743\n",
      "Epoch:96\n",
      "Loss:3.88047593797076\n",
      "Epoch:97\n",
      "Loss:3.878107184155741\n",
      "Epoch:98\n",
      "Loss:3.875708365333812\n",
      "Epoch:99\n",
      "Loss:3.873278902962273\n"
     ]
    },
    {
     "data": {
      "image/png": "[encoded data removed]",
      "text/plain": [
       "<Figure size 432x288 with 1 Axes>"
      ]
     },
     "metadata": {
      "needs_background": "light"
     },
     "output_type": "display_data"
    },
    {
     "name": "stdout",
     "output_type": "stream",
     "text": [
      "Predicted f: [ 0.08786244 -0.38091692  0.12359391 -0.12595344 -0.20994073  0.23599055\n",
      " -0.29863063 -0.0019078  -0.15475343 -0.22735175 -0.12747812  0.18402287\n",
      " -0.00444371 -0.24089554  0.11788008 -0.22093609 -0.1677989  -0.33228728\n",
      " -0.03222354 -0.3101312  -0.07771757 -0.07459402 -0.08517626 -0.13846721\n",
      " -0.01916483  0.07283058  0.2961348 ]\n",
      "True f: tensor([ 0.0000e+00,  0.0000e+00,  0.0000e+00,  4.6865e-17,  0.0000e+00,\n",
      "        -0.0000e+00,  8.6596e-17, -9.3730e-17,  0.0000e+00,  1.1314e-16,\n",
      "        -1.7319e-16,  0.0000e+00,  1.2246e-16, -2.2629e-16,  0.0000e+00,\n",
      "         1.1314e-16, -2.4493e-16,  0.0000e+00,  8.6596e-17, -2.2629e-16,\n",
      "         0.0000e+00,  4.6865e-17, -1.7319e-16,  0.0000e+00,  1.4998e-32,\n",
      "        -9.3730e-17, -2.9995e-32], dtype=torch.float64)\n"
     ]
    },
    {
     "data": {
      "image/png": "[encoded data removed]",
      "text/plain": [
       "<Figure size 432x288 with 1 Axes>"
      ]
     },
     "metadata": {
      "needs_background": "light"
     },
     "output_type": "display_data"
    }
   ],
   "source": [
    "error_L2 = nn.MSELoss()\n",
    "learning_rate = 0.0001\n",
    "f_nn = neural_net() #neural_net(N, 68, N)\n",
    "optimizer = torch.optim.Adam(f_nn.parameters(), lr=learning_rate)\n",
    "losses = []\n",
    "\n",
    "for epoch in range(100):\n",
    "    print(f\"Epoch:{epoch}\")\n",
    "    f = f_nn(*inputs)\n",
    "    y = a_(f)\n",
    "\n",
    "    loss = error_L2(y, F_)\n",
    "    grad_x, = torch.autograd.grad(loss, inputs, create_graph=True)\n",
    "    torchviz.make_dot((grad_x, inputs[0] , loss), params={\"grad_x\": grad_x, \"x\": inputs[0], \"out\": loss}).render(\"attached\",format=\"png\")\n",
    "    losses.append(loss)\n",
    "    print(f\"Loss:{loss}\")\n",
    "\n",
    "    # Backpropagation\n",
    "    optimizer.zero_grad()\n",
    "    loss.backward()\n",
    "    optimizer.step()\n",
    "\n",
    "plt.plot([loss.detach() for loss in losses][1:])\n",
    "#plt.savefig('losses.png')\n",
    "plt.show()\n",
    "plt.close()\n",
    "print(\"Predicted f:\", f.detach().numpy())\n",
    "print(\"True f:\", F_)\n",
    "plt.plot(f.detach().numpy())\n",
    "plt.show()\n",
    "#plt.savefig('f.png')"
   ]
  },
  {
   "cell_type": "code",
   "execution_count": null,
   "metadata": {
    "pycharm": {
     "name": "#%%\n"
    }
   },
   "outputs": [],
   "source": []
  }
 ],
 "metadata": {
  "kernelspec": {
   "display_name": "Python 3 (ipykernel)",
   "language": "python",
   "name": "python3"
  },
  "language_info": {
   "codemirror_mode": {
    "name": "ipython",
    "version": 3
   },
   "file_extension": ".py",
   "mimetype": "text/x-python",
   "name": "python",
   "nbconvert_exporter": "python",
   "pygments_lexer": "ipython3",
   "version": "3.10.4"
  }
 },
 "nbformat": 4,
 "nbformat_minor": 1
}